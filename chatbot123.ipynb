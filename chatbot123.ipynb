{
  "nbformat": 4,
  "nbformat_minor": 0,
  "metadata": {
    "colab": {
      "provenance": []
    },
    "kernelspec": {
      "name": "python3",
      "display_name": "Python 3"
    },
    "language_info": {
      "name": "python"
    },
    "widgets": {
      "application/vnd.jupyter.widget-state+json": {
        "174f40cc800e4038a3403d9be272b44b": {
          "model_module": "@jupyter-widgets/controls",
          "model_name": "HBoxModel",
          "model_module_version": "1.5.0",
          "state": {
            "_dom_classes": [],
            "_model_module": "@jupyter-widgets/controls",
            "_model_module_version": "1.5.0",
            "_model_name": "HBoxModel",
            "_view_count": null,
            "_view_module": "@jupyter-widgets/controls",
            "_view_module_version": "1.5.0",
            "_view_name": "HBoxView",
            "box_style": "",
            "children": [
              "IPY_MODEL_47073d2905484f31ac50184890293ebe",
              "IPY_MODEL_979ed229ccbf41619da45d7f0b40ef28",
              "IPY_MODEL_46bb177b2fd54e5c862d49796ce0808f"
            ],
            "layout": "IPY_MODEL_2c53e7d1cb7b4a629e1ade18feacf066"
          }
        },
        "47073d2905484f31ac50184890293ebe": {
          "model_module": "@jupyter-widgets/controls",
          "model_name": "HTMLModel",
          "model_module_version": "1.5.0",
          "state": {
            "_dom_classes": [],
            "_model_module": "@jupyter-widgets/controls",
            "_model_module_version": "1.5.0",
            "_model_name": "HTMLModel",
            "_view_count": null,
            "_view_module": "@jupyter-widgets/controls",
            "_view_module_version": "1.5.0",
            "_view_name": "HTMLView",
            "description": "",
            "description_tooltip": null,
            "layout": "IPY_MODEL_e2d34859e07f496984a666ec2d71e9c3",
            "placeholder": "​",
            "style": "IPY_MODEL_b9f7fc074f784e7f9d7c9e5b223ae720",
            "value": "Parsing nodes: 100%"
          }
        },
        "979ed229ccbf41619da45d7f0b40ef28": {
          "model_module": "@jupyter-widgets/controls",
          "model_name": "FloatProgressModel",
          "model_module_version": "1.5.0",
          "state": {
            "_dom_classes": [],
            "_model_module": "@jupyter-widgets/controls",
            "_model_module_version": "1.5.0",
            "_model_name": "FloatProgressModel",
            "_view_count": null,
            "_view_module": "@jupyter-widgets/controls",
            "_view_module_version": "1.5.0",
            "_view_name": "ProgressView",
            "bar_style": "success",
            "description": "",
            "description_tooltip": null,
            "layout": "IPY_MODEL_85d7a82d8c3f4d9aa26189239d944417",
            "max": 3,
            "min": 0,
            "orientation": "horizontal",
            "style": "IPY_MODEL_f6afe49327bd47a2ad256c6c753cd779",
            "value": 3
          }
        },
        "46bb177b2fd54e5c862d49796ce0808f": {
          "model_module": "@jupyter-widgets/controls",
          "model_name": "HTMLModel",
          "model_module_version": "1.5.0",
          "state": {
            "_dom_classes": [],
            "_model_module": "@jupyter-widgets/controls",
            "_model_module_version": "1.5.0",
            "_model_name": "HTMLModel",
            "_view_count": null,
            "_view_module": "@jupyter-widgets/controls",
            "_view_module_version": "1.5.0",
            "_view_name": "HTMLView",
            "description": "",
            "description_tooltip": null,
            "layout": "IPY_MODEL_fcd18a782b6b4e1fbb5ecd9989a1e542",
            "placeholder": "​",
            "style": "IPY_MODEL_01aedf43bb5b479085fa3ce8a3945508",
            "value": " 3/3 [00:00&lt;00:00, 68.04it/s]"
          }
        },
        "2c53e7d1cb7b4a629e1ade18feacf066": {
          "model_module": "@jupyter-widgets/base",
          "model_name": "LayoutModel",
          "model_module_version": "1.2.0",
          "state": {
            "_model_module": "@jupyter-widgets/base",
            "_model_module_version": "1.2.0",
            "_model_name": "LayoutModel",
            "_view_count": null,
            "_view_module": "@jupyter-widgets/base",
            "_view_module_version": "1.2.0",
            "_view_name": "LayoutView",
            "align_content": null,
            "align_items": null,
            "align_self": null,
            "border": null,
            "bottom": null,
            "display": null,
            "flex": null,
            "flex_flow": null,
            "grid_area": null,
            "grid_auto_columns": null,
            "grid_auto_flow": null,
            "grid_auto_rows": null,
            "grid_column": null,
            "grid_gap": null,
            "grid_row": null,
            "grid_template_areas": null,
            "grid_template_columns": null,
            "grid_template_rows": null,
            "height": null,
            "justify_content": null,
            "justify_items": null,
            "left": null,
            "margin": null,
            "max_height": null,
            "max_width": null,
            "min_height": null,
            "min_width": null,
            "object_fit": null,
            "object_position": null,
            "order": null,
            "overflow": null,
            "overflow_x": null,
            "overflow_y": null,
            "padding": null,
            "right": null,
            "top": null,
            "visibility": null,
            "width": null
          }
        },
        "e2d34859e07f496984a666ec2d71e9c3": {
          "model_module": "@jupyter-widgets/base",
          "model_name": "LayoutModel",
          "model_module_version": "1.2.0",
          "state": {
            "_model_module": "@jupyter-widgets/base",
            "_model_module_version": "1.2.0",
            "_model_name": "LayoutModel",
            "_view_count": null,
            "_view_module": "@jupyter-widgets/base",
            "_view_module_version": "1.2.0",
            "_view_name": "LayoutView",
            "align_content": null,
            "align_items": null,
            "align_self": null,
            "border": null,
            "bottom": null,
            "display": null,
            "flex": null,
            "flex_flow": null,
            "grid_area": null,
            "grid_auto_columns": null,
            "grid_auto_flow": null,
            "grid_auto_rows": null,
            "grid_column": null,
            "grid_gap": null,
            "grid_row": null,
            "grid_template_areas": null,
            "grid_template_columns": null,
            "grid_template_rows": null,
            "height": null,
            "justify_content": null,
            "justify_items": null,
            "left": null,
            "margin": null,
            "max_height": null,
            "max_width": null,
            "min_height": null,
            "min_width": null,
            "object_fit": null,
            "object_position": null,
            "order": null,
            "overflow": null,
            "overflow_x": null,
            "overflow_y": null,
            "padding": null,
            "right": null,
            "top": null,
            "visibility": null,
            "width": null
          }
        },
        "b9f7fc074f784e7f9d7c9e5b223ae720": {
          "model_module": "@jupyter-widgets/controls",
          "model_name": "DescriptionStyleModel",
          "model_module_version": "1.5.0",
          "state": {
            "_model_module": "@jupyter-widgets/controls",
            "_model_module_version": "1.5.0",
            "_model_name": "DescriptionStyleModel",
            "_view_count": null,
            "_view_module": "@jupyter-widgets/base",
            "_view_module_version": "1.2.0",
            "_view_name": "StyleView",
            "description_width": ""
          }
        },
        "85d7a82d8c3f4d9aa26189239d944417": {
          "model_module": "@jupyter-widgets/base",
          "model_name": "LayoutModel",
          "model_module_version": "1.2.0",
          "state": {
            "_model_module": "@jupyter-widgets/base",
            "_model_module_version": "1.2.0",
            "_model_name": "LayoutModel",
            "_view_count": null,
            "_view_module": "@jupyter-widgets/base",
            "_view_module_version": "1.2.0",
            "_view_name": "LayoutView",
            "align_content": null,
            "align_items": null,
            "align_self": null,
            "border": null,
            "bottom": null,
            "display": null,
            "flex": null,
            "flex_flow": null,
            "grid_area": null,
            "grid_auto_columns": null,
            "grid_auto_flow": null,
            "grid_auto_rows": null,
            "grid_column": null,
            "grid_gap": null,
            "grid_row": null,
            "grid_template_areas": null,
            "grid_template_columns": null,
            "grid_template_rows": null,
            "height": null,
            "justify_content": null,
            "justify_items": null,
            "left": null,
            "margin": null,
            "max_height": null,
            "max_width": null,
            "min_height": null,
            "min_width": null,
            "object_fit": null,
            "object_position": null,
            "order": null,
            "overflow": null,
            "overflow_x": null,
            "overflow_y": null,
            "padding": null,
            "right": null,
            "top": null,
            "visibility": null,
            "width": null
          }
        },
        "f6afe49327bd47a2ad256c6c753cd779": {
          "model_module": "@jupyter-widgets/controls",
          "model_name": "ProgressStyleModel",
          "model_module_version": "1.5.0",
          "state": {
            "_model_module": "@jupyter-widgets/controls",
            "_model_module_version": "1.5.0",
            "_model_name": "ProgressStyleModel",
            "_view_count": null,
            "_view_module": "@jupyter-widgets/base",
            "_view_module_version": "1.2.0",
            "_view_name": "StyleView",
            "bar_color": null,
            "description_width": ""
          }
        },
        "fcd18a782b6b4e1fbb5ecd9989a1e542": {
          "model_module": "@jupyter-widgets/base",
          "model_name": "LayoutModel",
          "model_module_version": "1.2.0",
          "state": {
            "_model_module": "@jupyter-widgets/base",
            "_model_module_version": "1.2.0",
            "_model_name": "LayoutModel",
            "_view_count": null,
            "_view_module": "@jupyter-widgets/base",
            "_view_module_version": "1.2.0",
            "_view_name": "LayoutView",
            "align_content": null,
            "align_items": null,
            "align_self": null,
            "border": null,
            "bottom": null,
            "display": null,
            "flex": null,
            "flex_flow": null,
            "grid_area": null,
            "grid_auto_columns": null,
            "grid_auto_flow": null,
            "grid_auto_rows": null,
            "grid_column": null,
            "grid_gap": null,
            "grid_row": null,
            "grid_template_areas": null,
            "grid_template_columns": null,
            "grid_template_rows": null,
            "height": null,
            "justify_content": null,
            "justify_items": null,
            "left": null,
            "margin": null,
            "max_height": null,
            "max_width": null,
            "min_height": null,
            "min_width": null,
            "object_fit": null,
            "object_position": null,
            "order": null,
            "overflow": null,
            "overflow_x": null,
            "overflow_y": null,
            "padding": null,
            "right": null,
            "top": null,
            "visibility": null,
            "width": null
          }
        },
        "01aedf43bb5b479085fa3ce8a3945508": {
          "model_module": "@jupyter-widgets/controls",
          "model_name": "DescriptionStyleModel",
          "model_module_version": "1.5.0",
          "state": {
            "_model_module": "@jupyter-widgets/controls",
            "_model_module_version": "1.5.0",
            "_model_name": "DescriptionStyleModel",
            "_view_count": null,
            "_view_module": "@jupyter-widgets/base",
            "_view_module_version": "1.2.0",
            "_view_name": "StyleView",
            "description_width": ""
          }
        }
      }
    }
  },
  "cells": [
    {
      "cell_type": "code",
      "execution_count": 72,
      "metadata": {
        "id": "ZMjXiulObtGj"
      },
      "outputs": [],
      "source": [
        "!pip install -q llama-index"
      ]
    },
    {
      "cell_type": "code",
      "source": [
        "from llama_index.core import SimpleDirectoryReader\n"
      ],
      "metadata": {
        "id": "qUa0Sy2kdytz"
      },
      "execution_count": 73,
      "outputs": []
    },
    {
      "cell_type": "code",
      "source": [
        "documentos = SimpleDirectoryReader(input_dir='documentos')\n"
      ],
      "metadata": {
        "id": "s9l238fmq2ZC"
      },
      "execution_count": 74,
      "outputs": []
    },
    {
      "cell_type": "code",
      "source": [
        "documentos.input_files"
      ],
      "metadata": {
        "colab": {
          "base_uri": "https://localhost:8080/"
        },
        "id": "l5aQ7okQeEZ7",
        "outputId": "1e6e098d-567c-483c-eaa1-6d6645fa02ec"
      },
      "execution_count": 75,
      "outputs": [
        {
          "output_type": "execute_result",
          "data": {
            "text/plain": [
              "[PosixPath('/content/documentos/doc_info_agricultura.pdf')]"
            ]
          },
          "metadata": {},
          "execution_count": 75
        }
      ]
    },
    {
      "cell_type": "code",
      "source": [
        "docs = documentos.load_data()"
      ],
      "metadata": {
        "id": "6cquEYfYeN_E",
        "colab": {
          "base_uri": "https://localhost:8080/"
        },
        "outputId": "ef24a260-4932-418b-cb6a-c0a8efe61fc2"
      },
      "execution_count": 76,
      "outputs": [
        {
          "output_type": "stream",
          "name": "stderr",
          "text": [
            "WARNING:pypdf._reader:Ignoring wrong pointing object 6 0 (offset 0)\n",
            "WARNING:pypdf._reader:Ignoring wrong pointing object 8 0 (offset 0)\n",
            "WARNING:pypdf._reader:Ignoring wrong pointing object 11 0 (offset 0)\n"
          ]
        }
      ]
    },
    {
      "cell_type": "code",
      "source": [
        "len(docs)"
      ],
      "metadata": {
        "colab": {
          "base_uri": "https://localhost:8080/"
        },
        "id": "yysfVfRZgHjB",
        "outputId": "21aca34f-0cc1-4d36-fdb3-01438997c7ee"
      },
      "execution_count": 77,
      "outputs": [
        {
          "output_type": "execute_result",
          "data": {
            "text/plain": [
              "3"
            ]
          },
          "metadata": {},
          "execution_count": 77
        }
      ]
    },
    {
      "cell_type": "code",
      "source": [
        "print(docs[0].get_metadata_str())"
      ],
      "metadata": {
        "colab": {
          "base_uri": "https://localhost:8080/"
        },
        "id": "claHge7wgLj1",
        "outputId": "1e6cec6f-3bac-4761-81cd-d6ea46bce4dc"
      },
      "execution_count": 78,
      "outputs": [
        {
          "output_type": "stream",
          "name": "stdout",
          "text": [
            "page_label: 1\n",
            "file_name: doc_info_agricultura.pdf\n",
            "file_path: /content/documentos/doc_info_agricultura.pdf\n",
            "file_type: application/pdf\n",
            "file_size: 30901\n",
            "creation_date: 2025-04-02\n",
            "last_modified_date: 2025-04-02\n"
          ]
        }
      ]
    },
    {
      "cell_type": "code",
      "source": [
        "docs[0].__dict__"
      ],
      "metadata": {
        "colab": {
          "base_uri": "https://localhost:8080/"
        },
        "id": "Vo3rsEghk1sT",
        "outputId": "1f2e2d5e-9f7b-4cf5-a16d-129edfec7937"
      },
      "execution_count": 79,
      "outputs": [
        {
          "output_type": "execute_result",
          "data": {
            "text/plain": [
              "{'id_': 'eb51a210-3631-49fa-a993-20deefeb17e8',\n",
              " 'embedding': None,\n",
              " 'metadata': {'page_label': '1',\n",
              "  'file_name': 'doc_info_agricultura.pdf',\n",
              "  'file_path': '/content/documentos/doc_info_agricultura.pdf',\n",
              "  'file_type': 'application/pdf',\n",
              "  'file_size': 30901,\n",
              "  'creation_date': '2025-04-02',\n",
              "  'last_modified_date': '2025-04-02'},\n",
              " 'excluded_embed_metadata_keys': ['file_name',\n",
              "  'file_type',\n",
              "  'file_size',\n",
              "  'creation_date',\n",
              "  'last_modified_date',\n",
              "  'last_accessed_date'],\n",
              " 'excluded_llm_metadata_keys': ['file_name',\n",
              "  'file_type',\n",
              "  'file_size',\n",
              "  'creation_date',\n",
              "  'last_modified_date',\n",
              "  'last_accessed_date'],\n",
              " 'relationships': {},\n",
              " 'metadata_template': '{key}: {value}',\n",
              " 'metadata_separator': '\\n',\n",
              " 'text_resource': MediaResource(embeddings=None, data=None, text='Guia de Preparo do Solo para Plantio Informações Gerais P: Qual a importância do preparo adequado do solo? R: O preparo adequado do solo garante que as plantas tenham acesso aos nutrientes necessários, além de melhorar a retenção de água e a aeração, fatores essenciais para o crescimento saudável. P: Quais fatores devem ser considerados ao preparar o solo para o plantio? R: Os principais fatores incluem o tipo de solo, a umidade ideal, o pH, a compactação e a adubação adequada para cada cultura. Tipos de Solo e Seu Tratamento P: Quais os principais tipos de solo e como prepará-los? R: Existem diversos tipos de solo, cada um com características específicas e tratamentos recomendados: • Solo Arenoso: Drenagem rápida, baixo teor de nutrientes. Recomenda-se adição de matéria orgânica e irrigação frequente. • Solo Argiloso: Retém muita água, pode compactar facilmente. Aéreação e adição de areia podem melhorar a drenagem. • Solo Calcário: Alto pH, pouca disponibilidade de micronutrientes. Pode ser corrigido com adubação orgânica e fertilizantes ácidos. Sensores para Monitoramento da Umidade do Solo P: Quais sensores podem ser usados para monitorar a umidade do solo? R: Existem diversas tecnologias para medir a umidade do solo, entre elas: • Sensor Capacitivo de Umidade do Solo: Mede a variação da capacitância conforme o nível de umidade. • Sensor Resistivo de Umidade: Mede a condutividade elétrica do solo, variando conforme a umidade. • Sensor TDR (Time Domain Reflectometry): Utiliza pulsos eletromagnéticos para calcular a umidade com alta precisão. • Sondas de Tensiômetro: Medem a tensão com que a água está sendo retida no solo, indicando o nível de umidade disponível para as plantas. Esses sensores são fundamentais para o manejo eficiente da irrigação e para evitar estresse hídrico das plantas. Umidade e pH Ideais P: Como medir e ajustar a umidade do solo? R: A umidade pode ser medida com sensores ou testes simples (amassando o solo na mão). Para solos muito secos, a irrigação regular é essencial; para solos muito úmidos, drenagem adequada deve ser aplicada. ', path=None, url=None, mimetype=None),\n",
              " 'image_resource': None,\n",
              " 'audio_resource': None,\n",
              " 'video_resource': None,\n",
              " 'text_template': '{metadata_str}\\n\\n{content}'}"
            ]
          },
          "metadata": {},
          "execution_count": 79
        }
      ]
    },
    {
      "cell_type": "code",
      "source": [
        "from llama_index.core.node_parser import SentenceSplitter\n",
        "node_parser = SentenceSplitter(chunk_size=1200)"
      ],
      "metadata": {
        "id": "be-SvGiok88c"
      },
      "execution_count": 80,
      "outputs": []
    },
    {
      "cell_type": "code",
      "source": [
        "nodes = node_parser.get_nodes_from_documents(docs,show_progress=True)"
      ],
      "metadata": {
        "colab": {
          "base_uri": "https://localhost:8080/",
          "height": 49,
          "referenced_widgets": [
            "174f40cc800e4038a3403d9be272b44b",
            "47073d2905484f31ac50184890293ebe",
            "979ed229ccbf41619da45d7f0b40ef28",
            "46bb177b2fd54e5c862d49796ce0808f",
            "2c53e7d1cb7b4a629e1ade18feacf066",
            "e2d34859e07f496984a666ec2d71e9c3",
            "b9f7fc074f784e7f9d7c9e5b223ae720",
            "85d7a82d8c3f4d9aa26189239d944417",
            "f6afe49327bd47a2ad256c6c753cd779",
            "fcd18a782b6b4e1fbb5ecd9989a1e542",
            "01aedf43bb5b479085fa3ce8a3945508"
          ]
        },
        "id": "bOgJso5dlNio",
        "outputId": "a27d6813-1588-461b-eac5-18d69a4b5537"
      },
      "execution_count": 81,
      "outputs": [
        {
          "output_type": "display_data",
          "data": {
            "text/plain": [
              "Parsing nodes:   0%|          | 0/3 [00:00<?, ?it/s]"
            ],
            "application/vnd.jupyter.widget-view+json": {
              "version_major": 2,
              "version_minor": 0,
              "model_id": "174f40cc800e4038a3403d9be272b44b"
            }
          },
          "metadata": {}
        }
      ]
    },
    {
      "cell_type": "code",
      "source": [
        "nodes"
      ],
      "metadata": {
        "colab": {
          "base_uri": "https://localhost:8080/"
        },
        "id": "iv6P6TwHlZUw",
        "outputId": "29be998d-1fa5-4af4-b4c8-f5002e9f688c"
      },
      "execution_count": 82,
      "outputs": [
        {
          "output_type": "execute_result",
          "data": {
            "text/plain": [
              "[TextNode(id_='26350281-7768-4de1-9b00-1cc7be0d26e1', embedding=None, metadata={'page_label': '1', 'file_name': 'doc_info_agricultura.pdf', 'file_path': '/content/documentos/doc_info_agricultura.pdf', 'file_type': 'application/pdf', 'file_size': 30901, 'creation_date': '2025-04-02', 'last_modified_date': '2025-04-02'}, excluded_embed_metadata_keys=['file_name', 'file_type', 'file_size', 'creation_date', 'last_modified_date', 'last_accessed_date'], excluded_llm_metadata_keys=['file_name', 'file_type', 'file_size', 'creation_date', 'last_modified_date', 'last_accessed_date'], relationships={<NodeRelationship.SOURCE: '1'>: RelatedNodeInfo(node_id='eb51a210-3631-49fa-a993-20deefeb17e8', node_type=<ObjectType.DOCUMENT: '4'>, metadata={'page_label': '1', 'file_name': 'doc_info_agricultura.pdf', 'file_path': '/content/documentos/doc_info_agricultura.pdf', 'file_type': 'application/pdf', 'file_size': 30901, 'creation_date': '2025-04-02', 'last_modified_date': '2025-04-02'}, hash='b58f702a09b7fba5efae80e52da8cb8c97856dc89a117a9ebdc4710f6a2cdc20')}, metadata_template='{key}: {value}', metadata_separator='\\n', text='Guia de Preparo do Solo para Plantio Informações Gerais P: Qual a importância do preparo adequado do solo? R: O preparo adequado do solo garante que as plantas tenham acesso aos nutrientes necessários, além de melhorar a retenção de água e a aeração, fatores essenciais para o crescimento saudável. P: Quais fatores devem ser considerados ao preparar o solo para o plantio? R: Os principais fatores incluem o tipo de solo, a umidade ideal, o pH, a compactação e a adubação adequada para cada cultura. Tipos de Solo e Seu Tratamento P: Quais os principais tipos de solo e como prepará-los? R: Existem diversos tipos de solo, cada um com características específicas e tratamentos recomendados: • Solo Arenoso: Drenagem rápida, baixo teor de nutrientes. Recomenda-se adição de matéria orgânica e irrigação frequente. • Solo Argiloso: Retém muita água, pode compactar facilmente. Aéreação e adição de areia podem melhorar a drenagem. • Solo Calcário: Alto pH, pouca disponibilidade de micronutrientes. Pode ser corrigido com adubação orgânica e fertilizantes ácidos. Sensores para Monitoramento da Umidade do Solo P: Quais sensores podem ser usados para monitorar a umidade do solo? R: Existem diversas tecnologias para medir a umidade do solo, entre elas: • Sensor Capacitivo de Umidade do Solo: Mede a variação da capacitância conforme o nível de umidade. • Sensor Resistivo de Umidade: Mede a condutividade elétrica do solo, variando conforme a umidade. • Sensor TDR (Time Domain Reflectometry): Utiliza pulsos eletromagnéticos para calcular a umidade com alta precisão. • Sondas de Tensiômetro: Medem a tensão com que a água está sendo retida no solo, indicando o nível de umidade disponível para as plantas. Esses sensores são fundamentais para o manejo eficiente da irrigação e para evitar estresse hídrico das plantas. Umidade e pH Ideais P: Como medir e ajustar a umidade do solo? R: A umidade pode ser medida com sensores ou testes simples (amassando o solo na mão). Para solos muito secos, a irrigação regular é essencial; para solos muito úmidos, drenagem adequada deve ser aplicada.', mimetype='text/plain', start_char_idx=0, end_char_idx=2090, metadata_seperator='\\n', text_template='{metadata_str}\\n\\n{content}'),\n",
              " TextNode(id_='a0d2c625-b256-4d7e-a9eb-c06b74f0d958', embedding=None, metadata={'page_label': '2', 'file_name': 'doc_info_agricultura.pdf', 'file_path': '/content/documentos/doc_info_agricultura.pdf', 'file_type': 'application/pdf', 'file_size': 30901, 'creation_date': '2025-04-02', 'last_modified_date': '2025-04-02'}, excluded_embed_metadata_keys=['file_name', 'file_type', 'file_size', 'creation_date', 'last_modified_date', 'last_accessed_date'], excluded_llm_metadata_keys=['file_name', 'file_type', 'file_size', 'creation_date', 'last_modified_date', 'last_accessed_date'], relationships={<NodeRelationship.SOURCE: '1'>: RelatedNodeInfo(node_id='41d07384-0e3d-498f-93e0-3b5b5febace0', node_type=<ObjectType.DOCUMENT: '4'>, metadata={'page_label': '2', 'file_name': 'doc_info_agricultura.pdf', 'file_path': '/content/documentos/doc_info_agricultura.pdf', 'file_type': 'application/pdf', 'file_size': 30901, 'creation_date': '2025-04-02', 'last_modified_date': '2025-04-02'}, hash='49623db78fe72a9e8cad7f7cd79ce0feddd1a28c2fd2b17b50b9df497a78808d')}, metadata_template='{key}: {value}', metadata_separator='\\n', text='P: Como ajustar o pH do solo para diferentes culturas? R: O pH do solo pode ser medido com kits de teste. Para correção: • Solo ácido (pH baixo): Aplicação de calcário. • Solo alcalino (pH alto): Uso de enxofre ou fertilizantes ácidos. Culturas e Suas Necessidades P: Quais são as recomendações de preparo do solo para diferentes sementes? R: Cada semente tem exigências específicas: • Milho: Prefere solo bem drenado, pH entre 5,5 e 7,0, rico em nitrogênio. • Soja: Solo com boa retenção de umidade, pH entre 6,0 e 7,0, necessária fixação biológica de nitrogênio. • Trigo: Prefere solos profundos e bem drenados, pH entre 6,0 e 7,5, rico em fósforo. • Hortaliças (alface, tomate, cenoura): Solo leve, bem drenado e rico em matéria orgânica, pH entre 5,5 e 6,8. P: Como garantir a fertilidade do solo? R: O solo deve ser adubado de acordo com as necessidades da cultura. A adubação pode ser orgânica (composto, esterco) ou química (NPK). A análise do solo é fundamental para determinar os nutrientes necessários. Tipos de Fertilizantes P: Quais são os principais fertilizantes usados no solo? R: Os fertilizantes podem ser classificados em: • Fertilizantes Orgânicos: Compostos naturais como esterco, húmus de minhoca, farinha de ossos e restos vegetais. • Fertilizantes Químicos: Compostos sintéticos como NPK (Nitrogênio, Fósforo e Potássio), ureia, superfosfato e cloreto de potássio. • Fertilizantes de Liberação Controlada: Gradualmente liberam os nutrientes no solo ao longo do tempo, otimizando o aproveitamento pelas plantas. Preparo do Solo Passo a Passo 1. Análise do Solo: Coletar amostras e verificar pH, umidade e nutrientes. 2. Correção do Solo: Aplicar calcário, adubos e melhoradores conforme necessidade. 3. Aragem e Gradagem: Revolver o solo para aeração e nivelamento. 4. Adubação: Incorporar fertilizantes e matéria orgânica. 5. Preparo Final: Nivelar o solo e preparar os espaçamentos para a sementeira ou mudas. Dicas Gerais', mimetype='text/plain', start_char_idx=0, end_char_idx=1946, metadata_seperator='\\n', text_template='{metadata_str}\\n\\n{content}'),\n",
              " TextNode(id_='ce839b5e-9f46-4125-b427-ff772fbd0653', embedding=None, metadata={'page_label': '3', 'file_name': 'doc_info_agricultura.pdf', 'file_path': '/content/documentos/doc_info_agricultura.pdf', 'file_type': 'application/pdf', 'file_size': 30901, 'creation_date': '2025-04-02', 'last_modified_date': '2025-04-02'}, excluded_embed_metadata_keys=['file_name', 'file_type', 'file_size', 'creation_date', 'last_modified_date', 'last_accessed_date'], excluded_llm_metadata_keys=['file_name', 'file_type', 'file_size', 'creation_date', 'last_modified_date', 'last_accessed_date'], relationships={<NodeRelationship.SOURCE: '1'>: RelatedNodeInfo(node_id='bf006040-14f5-4cda-86b5-5d21b28543d6', node_type=<ObjectType.DOCUMENT: '4'>, metadata={'page_label': '3', 'file_name': 'doc_info_agricultura.pdf', 'file_path': '/content/documentos/doc_info_agricultura.pdf', 'file_type': 'application/pdf', 'file_size': 30901, 'creation_date': '2025-04-02', 'last_modified_date': '2025-04-02'}, hash='253e3c6aaf4f24bbb581b127f9abed78cd67106f52bb2c4b6760de1a2225fdad')}, metadata_template='{key}: {value}', metadata_separator='\\n', text='• Evite compactação excessiva: Use rotação de culturas e cobertura vegetal. • Mantenha umidade ideal: Planeje irrigação conforme a cultura. • Proteja contra erosão: Utilize cobertura morta e curvas de nível em terrenos inclinados. Onde obter mais informações? Para mais detalhes sobre preparo do solo e escolha de sementes, consulte um agrônomo ou acesse fontes confiáveis de pesquisa agrícola.', mimetype='text/plain', start_char_idx=0, end_char_idx=394, metadata_seperator='\\n', text_template='{metadata_str}\\n\\n{content}')]"
            ]
          },
          "metadata": {},
          "execution_count": 82
        }
      ]
    },
    {
      "cell_type": "code",
      "source": [
        "len(nodes)"
      ],
      "metadata": {
        "colab": {
          "base_uri": "https://localhost:8080/"
        },
        "id": "GBYjAoFvlbNI",
        "outputId": "e58cb105-4870-43ff-aa93-71598713afd4"
      },
      "execution_count": 83,
      "outputs": [
        {
          "output_type": "execute_result",
          "data": {
            "text/plain": [
              "3"
            ]
          },
          "metadata": {},
          "execution_count": 83
        }
      ]
    },
    {
      "cell_type": "code",
      "source": [
        "nodes"
      ],
      "metadata": {
        "colab": {
          "base_uri": "https://localhost:8080/"
        },
        "id": "SUeMbiHUlcIP",
        "outputId": "09293c71-d6f9-4ea5-d11c-f22cffdf5ac5"
      },
      "execution_count": 84,
      "outputs": [
        {
          "output_type": "execute_result",
          "data": {
            "text/plain": [
              "[TextNode(id_='26350281-7768-4de1-9b00-1cc7be0d26e1', embedding=None, metadata={'page_label': '1', 'file_name': 'doc_info_agricultura.pdf', 'file_path': '/content/documentos/doc_info_agricultura.pdf', 'file_type': 'application/pdf', 'file_size': 30901, 'creation_date': '2025-04-02', 'last_modified_date': '2025-04-02'}, excluded_embed_metadata_keys=['file_name', 'file_type', 'file_size', 'creation_date', 'last_modified_date', 'last_accessed_date'], excluded_llm_metadata_keys=['file_name', 'file_type', 'file_size', 'creation_date', 'last_modified_date', 'last_accessed_date'], relationships={<NodeRelationship.SOURCE: '1'>: RelatedNodeInfo(node_id='eb51a210-3631-49fa-a993-20deefeb17e8', node_type=<ObjectType.DOCUMENT: '4'>, metadata={'page_label': '1', 'file_name': 'doc_info_agricultura.pdf', 'file_path': '/content/documentos/doc_info_agricultura.pdf', 'file_type': 'application/pdf', 'file_size': 30901, 'creation_date': '2025-04-02', 'last_modified_date': '2025-04-02'}, hash='b58f702a09b7fba5efae80e52da8cb8c97856dc89a117a9ebdc4710f6a2cdc20')}, metadata_template='{key}: {value}', metadata_separator='\\n', text='Guia de Preparo do Solo para Plantio Informações Gerais P: Qual a importância do preparo adequado do solo? R: O preparo adequado do solo garante que as plantas tenham acesso aos nutrientes necessários, além de melhorar a retenção de água e a aeração, fatores essenciais para o crescimento saudável. P: Quais fatores devem ser considerados ao preparar o solo para o plantio? R: Os principais fatores incluem o tipo de solo, a umidade ideal, o pH, a compactação e a adubação adequada para cada cultura. Tipos de Solo e Seu Tratamento P: Quais os principais tipos de solo e como prepará-los? R: Existem diversos tipos de solo, cada um com características específicas e tratamentos recomendados: • Solo Arenoso: Drenagem rápida, baixo teor de nutrientes. Recomenda-se adição de matéria orgânica e irrigação frequente. • Solo Argiloso: Retém muita água, pode compactar facilmente. Aéreação e adição de areia podem melhorar a drenagem. • Solo Calcário: Alto pH, pouca disponibilidade de micronutrientes. Pode ser corrigido com adubação orgânica e fertilizantes ácidos. Sensores para Monitoramento da Umidade do Solo P: Quais sensores podem ser usados para monitorar a umidade do solo? R: Existem diversas tecnologias para medir a umidade do solo, entre elas: • Sensor Capacitivo de Umidade do Solo: Mede a variação da capacitância conforme o nível de umidade. • Sensor Resistivo de Umidade: Mede a condutividade elétrica do solo, variando conforme a umidade. • Sensor TDR (Time Domain Reflectometry): Utiliza pulsos eletromagnéticos para calcular a umidade com alta precisão. • Sondas de Tensiômetro: Medem a tensão com que a água está sendo retida no solo, indicando o nível de umidade disponível para as plantas. Esses sensores são fundamentais para o manejo eficiente da irrigação e para evitar estresse hídrico das plantas. Umidade e pH Ideais P: Como medir e ajustar a umidade do solo? R: A umidade pode ser medida com sensores ou testes simples (amassando o solo na mão). Para solos muito secos, a irrigação regular é essencial; para solos muito úmidos, drenagem adequada deve ser aplicada.', mimetype='text/plain', start_char_idx=0, end_char_idx=2090, metadata_seperator='\\n', text_template='{metadata_str}\\n\\n{content}'),\n",
              " TextNode(id_='a0d2c625-b256-4d7e-a9eb-c06b74f0d958', embedding=None, metadata={'page_label': '2', 'file_name': 'doc_info_agricultura.pdf', 'file_path': '/content/documentos/doc_info_agricultura.pdf', 'file_type': 'application/pdf', 'file_size': 30901, 'creation_date': '2025-04-02', 'last_modified_date': '2025-04-02'}, excluded_embed_metadata_keys=['file_name', 'file_type', 'file_size', 'creation_date', 'last_modified_date', 'last_accessed_date'], excluded_llm_metadata_keys=['file_name', 'file_type', 'file_size', 'creation_date', 'last_modified_date', 'last_accessed_date'], relationships={<NodeRelationship.SOURCE: '1'>: RelatedNodeInfo(node_id='41d07384-0e3d-498f-93e0-3b5b5febace0', node_type=<ObjectType.DOCUMENT: '4'>, metadata={'page_label': '2', 'file_name': 'doc_info_agricultura.pdf', 'file_path': '/content/documentos/doc_info_agricultura.pdf', 'file_type': 'application/pdf', 'file_size': 30901, 'creation_date': '2025-04-02', 'last_modified_date': '2025-04-02'}, hash='49623db78fe72a9e8cad7f7cd79ce0feddd1a28c2fd2b17b50b9df497a78808d')}, metadata_template='{key}: {value}', metadata_separator='\\n', text='P: Como ajustar o pH do solo para diferentes culturas? R: O pH do solo pode ser medido com kits de teste. Para correção: • Solo ácido (pH baixo): Aplicação de calcário. • Solo alcalino (pH alto): Uso de enxofre ou fertilizantes ácidos. Culturas e Suas Necessidades P: Quais são as recomendações de preparo do solo para diferentes sementes? R: Cada semente tem exigências específicas: • Milho: Prefere solo bem drenado, pH entre 5,5 e 7,0, rico em nitrogênio. • Soja: Solo com boa retenção de umidade, pH entre 6,0 e 7,0, necessária fixação biológica de nitrogênio. • Trigo: Prefere solos profundos e bem drenados, pH entre 6,0 e 7,5, rico em fósforo. • Hortaliças (alface, tomate, cenoura): Solo leve, bem drenado e rico em matéria orgânica, pH entre 5,5 e 6,8. P: Como garantir a fertilidade do solo? R: O solo deve ser adubado de acordo com as necessidades da cultura. A adubação pode ser orgânica (composto, esterco) ou química (NPK). A análise do solo é fundamental para determinar os nutrientes necessários. Tipos de Fertilizantes P: Quais são os principais fertilizantes usados no solo? R: Os fertilizantes podem ser classificados em: • Fertilizantes Orgânicos: Compostos naturais como esterco, húmus de minhoca, farinha de ossos e restos vegetais. • Fertilizantes Químicos: Compostos sintéticos como NPK (Nitrogênio, Fósforo e Potássio), ureia, superfosfato e cloreto de potássio. • Fertilizantes de Liberação Controlada: Gradualmente liberam os nutrientes no solo ao longo do tempo, otimizando o aproveitamento pelas plantas. Preparo do Solo Passo a Passo 1. Análise do Solo: Coletar amostras e verificar pH, umidade e nutrientes. 2. Correção do Solo: Aplicar calcário, adubos e melhoradores conforme necessidade. 3. Aragem e Gradagem: Revolver o solo para aeração e nivelamento. 4. Adubação: Incorporar fertilizantes e matéria orgânica. 5. Preparo Final: Nivelar o solo e preparar os espaçamentos para a sementeira ou mudas. Dicas Gerais', mimetype='text/plain', start_char_idx=0, end_char_idx=1946, metadata_seperator='\\n', text_template='{metadata_str}\\n\\n{content}'),\n",
              " TextNode(id_='ce839b5e-9f46-4125-b427-ff772fbd0653', embedding=None, metadata={'page_label': '3', 'file_name': 'doc_info_agricultura.pdf', 'file_path': '/content/documentos/doc_info_agricultura.pdf', 'file_type': 'application/pdf', 'file_size': 30901, 'creation_date': '2025-04-02', 'last_modified_date': '2025-04-02'}, excluded_embed_metadata_keys=['file_name', 'file_type', 'file_size', 'creation_date', 'last_modified_date', 'last_accessed_date'], excluded_llm_metadata_keys=['file_name', 'file_type', 'file_size', 'creation_date', 'last_modified_date', 'last_accessed_date'], relationships={<NodeRelationship.SOURCE: '1'>: RelatedNodeInfo(node_id='bf006040-14f5-4cda-86b5-5d21b28543d6', node_type=<ObjectType.DOCUMENT: '4'>, metadata={'page_label': '3', 'file_name': 'doc_info_agricultura.pdf', 'file_path': '/content/documentos/doc_info_agricultura.pdf', 'file_type': 'application/pdf', 'file_size': 30901, 'creation_date': '2025-04-02', 'last_modified_date': '2025-04-02'}, hash='253e3c6aaf4f24bbb581b127f9abed78cd67106f52bb2c4b6760de1a2225fdad')}, metadata_template='{key}: {value}', metadata_separator='\\n', text='• Evite compactação excessiva: Use rotação de culturas e cobertura vegetal. • Mantenha umidade ideal: Planeje irrigação conforme a cultura. • Proteja contra erosão: Utilize cobertura morta e curvas de nível em terrenos inclinados. Onde obter mais informações? Para mais detalhes sobre preparo do solo e escolha de sementes, consulte um agrônomo ou acesse fontes confiáveis de pesquisa agrícola.', mimetype='text/plain', start_char_idx=0, end_char_idx=394, metadata_seperator='\\n', text_template='{metadata_str}\\n\\n{content}')]"
            ]
          },
          "metadata": {},
          "execution_count": 84
        }
      ]
    },
    {
      "cell_type": "code",
      "source": [
        "!pip install -q  llama-index-embeddings-huggingface"
      ],
      "metadata": {
        "id": "sqg2aqYPloDA"
      },
      "execution_count": 85,
      "outputs": []
    },
    {
      "cell_type": "code",
      "source": [
        "from llama_index.embeddings.huggingface import HuggingFaceEmbedding"
      ],
      "metadata": {
        "id": "FuAKrA7Fl36w"
      },
      "execution_count": 86,
      "outputs": []
    },
    {
      "cell_type": "code",
      "source": [
        "# Classe personalizada para integrar ao Chroma DB\n",
        "\n",
        "class ChromaEmbeddingWrapper:\n",
        "    def __init__(self, model_name: str):  # inicializa com o modelo embedding\n",
        "        self.model = HuggingFaceEmbedding(model_name=model_name)\n",
        "\n",
        "    def __call__(self, input):  # Converte a entrada para o formato compatível com o HuggingFace\n",
        "        return self.model.embed(input)"
      ],
      "metadata": {
        "id": "i7SPl2U7k8OW"
      },
      "execution_count": 87,
      "outputs": []
    },
    {
      "cell_type": "code",
      "source": [
        "embed_model_chroma = ChromaEmbeddingWrapper(model_name='intfloat/multilingual-e5-large')"
      ],
      "metadata": {
        "id": "sT4FDeqLk8s-"
      },
      "execution_count": 88,
      "outputs": []
    },
    {
      "cell_type": "code",
      "source": [
        "# instalação do chroma db\n",
        "!pip install -q llama-index-vector-stores-chroma"
      ],
      "metadata": {
        "id": "StVv1_GLk_du"
      },
      "execution_count": 89,
      "outputs": []
    },
    {
      "cell_type": "code",
      "source": [
        "import chromadb\n",
        "\n",
        "db = chromadb.PersistentClient(path='./chroma_db')\n",
        "chroma_client = db\n",
        "collection_name = 'documents_serenatto'\n",
        "\n",
        "try:\n",
        "    chroma_collection = chroma_client.get_or_create_collection(\n",
        "        name=collection_name,\n",
        "        embedding_function=embed_model_chroma)\n",
        "except Exception as e:\n",
        "    print(f'ERRO AO CRIAR COLEÇÃO: {e}')"
      ],
      "metadata": {
        "id": "0DPNcvY5lAjG"
      },
      "execution_count": 90,
      "outputs": []
    },
    {
      "cell_type": "code",
      "source": [
        "from llama_index.vector_stores.chroma import ChromaVectorStore\n",
        "from llama_index.core import StorageContext"
      ],
      "metadata": {
        "id": "0qvv6BbzlBiW"
      },
      "execution_count": 91,
      "outputs": []
    },
    {
      "cell_type": "code",
      "source": [
        "# criando a coleção de banco de dados\n",
        "vector_store = ChromaVectorStore(chroma_collection=chroma_collection)\n",
        "storage_context = StorageContext.from_defaults(vector_store=vector_store)"
      ],
      "metadata": {
        "id": "uk7m1LNBlCqm"
      },
      "execution_count": 92,
      "outputs": []
    },
    {
      "cell_type": "code",
      "source": [
        "embed_model = HuggingFaceEmbedding(model_name='intfloat/multilingual-e5-large')"
      ],
      "metadata": {
        "id": "Pp5pfOZYlDuc"
      },
      "execution_count": 93,
      "outputs": []
    },
    {
      "cell_type": "code",
      "source": [
        "from llama_index.core import VectorStoreIndex"
      ],
      "metadata": {
        "id": "p6-2RNN9lEyk"
      },
      "execution_count": 94,
      "outputs": []
    },
    {
      "cell_type": "code",
      "source": [
        "index = VectorStoreIndex(nodes, storage_context = storage_context, embed_model = embed_model)"
      ],
      "metadata": {
        "id": "PQxn8S8GlFt8"
      },
      "execution_count": 95,
      "outputs": []
    },
    {
      "cell_type": "code",
      "source": [
        "from llama_index.core import load_index_from_storage\n",
        "index = load_index_from_storage(storage_context, embed_model=embed_model)"
      ],
      "metadata": {
        "id": "4lFyrG_3lGrj"
      },
      "execution_count": 96,
      "outputs": []
    },
    {
      "cell_type": "code",
      "source": [
        "from google.colab import userdata\n",
        "Groq_api = userdata.get('api_groq2_chat')"
      ],
      "metadata": {
        "colab": {
          "base_uri": "https://localhost:8080/",
          "height": 280
        },
        "id": "F5azB31WlH2L",
        "outputId": "13c34879-9497-4e54-99c8-027b520816d8"
      },
      "execution_count": 97,
      "outputs": [
        {
          "output_type": "error",
          "ename": "SecretNotFoundError",
          "evalue": "Secret api_groq2_chat does not exist.",
          "traceback": [
            "\u001b[0;31m---------------------------------------------------------------------------\u001b[0m",
            "\u001b[0;31mSecretNotFoundError\u001b[0m                       Traceback (most recent call last)",
            "\u001b[0;32m<ipython-input-97-ff6477330801>\u001b[0m in \u001b[0;36m<cell line: 0>\u001b[0;34m()\u001b[0m\n\u001b[1;32m      1\u001b[0m \u001b[0;32mfrom\u001b[0m \u001b[0mgoogle\u001b[0m\u001b[0;34m.\u001b[0m\u001b[0mcolab\u001b[0m \u001b[0;32mimport\u001b[0m \u001b[0muserdata\u001b[0m\u001b[0;34m\u001b[0m\u001b[0;34m\u001b[0m\u001b[0m\n\u001b[0;32m----> 2\u001b[0;31m \u001b[0mGroq_api\u001b[0m \u001b[0;34m=\u001b[0m \u001b[0muserdata\u001b[0m\u001b[0;34m.\u001b[0m\u001b[0mget\u001b[0m\u001b[0;34m(\u001b[0m\u001b[0;34m'api_groq2_chat'\u001b[0m\u001b[0;34m)\u001b[0m\u001b[0;34m\u001b[0m\u001b[0;34m\u001b[0m\u001b[0m\n\u001b[0m",
            "\u001b[0;32m/usr/local/lib/python3.11/dist-packages/google/colab/userdata.py\u001b[0m in \u001b[0;36mget\u001b[0;34m(key)\u001b[0m\n\u001b[1;32m     66\u001b[0m     \u001b[0;32mraise\u001b[0m \u001b[0mTimeoutException\u001b[0m\u001b[0;34m(\u001b[0m\u001b[0mkey\u001b[0m\u001b[0;34m)\u001b[0m\u001b[0;34m\u001b[0m\u001b[0;34m\u001b[0m\u001b[0m\n\u001b[1;32m     67\u001b[0m   \u001b[0;32mif\u001b[0m \u001b[0;32mnot\u001b[0m \u001b[0mresp\u001b[0m\u001b[0;34m.\u001b[0m\u001b[0mget\u001b[0m\u001b[0;34m(\u001b[0m\u001b[0;34m'exists'\u001b[0m\u001b[0;34m,\u001b[0m \u001b[0;32mFalse\u001b[0m\u001b[0;34m)\u001b[0m\u001b[0;34m:\u001b[0m\u001b[0;34m\u001b[0m\u001b[0;34m\u001b[0m\u001b[0m\n\u001b[0;32m---> 68\u001b[0;31m     \u001b[0;32mraise\u001b[0m \u001b[0mSecretNotFoundError\u001b[0m\u001b[0;34m(\u001b[0m\u001b[0mkey\u001b[0m\u001b[0;34m)\u001b[0m\u001b[0;34m\u001b[0m\u001b[0;34m\u001b[0m\u001b[0m\n\u001b[0m\u001b[1;32m     69\u001b[0m   \u001b[0;32mif\u001b[0m \u001b[0;32mnot\u001b[0m \u001b[0mresp\u001b[0m\u001b[0;34m.\u001b[0m\u001b[0mget\u001b[0m\u001b[0;34m(\u001b[0m\u001b[0;34m'access'\u001b[0m\u001b[0;34m,\u001b[0m \u001b[0;32mFalse\u001b[0m\u001b[0;34m)\u001b[0m\u001b[0;34m:\u001b[0m\u001b[0;34m\u001b[0m\u001b[0;34m\u001b[0m\u001b[0m\n\u001b[1;32m     70\u001b[0m     \u001b[0;32mraise\u001b[0m \u001b[0mNotebookAccessError\u001b[0m\u001b[0;34m(\u001b[0m\u001b[0mkey\u001b[0m\u001b[0;34m)\u001b[0m\u001b[0;34m\u001b[0m\u001b[0;34m\u001b[0m\u001b[0m\n",
            "\u001b[0;31mSecretNotFoundError\u001b[0m: Secret api_groq2_chat does not exist."
          ]
        }
      ]
    },
    {
      "cell_type": "code",
      "source": [
        "!pip install -q llama_index-llms-groq"
      ],
      "metadata": {
        "id": "b2plVx0OlIwL"
      },
      "execution_count": 98,
      "outputs": []
    },
    {
      "cell_type": "code",
      "source": [
        "from llama_index.llms.groq import Groq"
      ],
      "metadata": {
        "id": "1X7E_CSUlJpS"
      },
      "execution_count": 99,
      "outputs": []
    },
    {
      "cell_type": "code",
      "source": [
        "llms = Groq(model = 'llama3-70b-8192',api_key='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')"
      ],
      "metadata": {
        "id": "ol7svckAlKg0"
      },
      "execution_count": 100,
      "outputs": []
    },
    {
      "cell_type": "code",
      "source": [
        "query_engine = index.as_query_engine(llm=llms, similarity_top_k=2)"
      ],
      "metadata": {
        "id": "S3ygWl4NlLYL"
      },
      "execution_count": 101,
      "outputs": []
    },
    {
      "cell_type": "code",
      "source": [
        "query_engine.query('Por que é importante preparar o solo adequadamente antes do plantio').response"
      ],
      "metadata": {
        "id": "Hn6n07XZlMQT",
        "colab": {
          "base_uri": "https://localhost:8080/",
          "height": 35
        },
        "outputId": "19d1ab12-4252-4c9b-aabb-64916c0a4d6a"
      },
      "execution_count": 102,
      "outputs": [
        {
          "output_type": "execute_result",
          "data": {
            "text/plain": [
              "'O preparo adequado do solo garante que as plantas tenham acesso aos nutrientes necessários, além de melhorar a retenção de água e a aeração, fatores essenciais para o crescimento saudável.'"
            ],
            "application/vnd.google.colaboratory.intrinsic+json": {
              "type": "string"
            }
          },
          "metadata": {},
          "execution_count": 102
        }
      ]
    },
    {
      "cell_type": "code",
      "source": [
        "query_embedding = embed_model.get_text_embedding('Quais são os principais tipos de solo e como prepará-los para o cultivo?')"
      ],
      "metadata": {
        "id": "_qGtMcM6lNQM"
      },
      "execution_count": 126,
      "outputs": []
    },
    {
      "cell_type": "markdown",
      "source": [
        "chroma_collection.query(query_embedding, n_results=2,include=['distances','embeddings'])"
      ],
      "metadata": {
        "id": "dcBF9ETUlOOr"
      }
    },
    {
      "cell_type": "code",
      "source": [
        "chat_engine = index.as_chat_engine(mode='context',llm = llms)"
      ],
      "metadata": {
        "id": "aXxzj0_ilPLj"
      },
      "execution_count": 105,
      "outputs": []
    },
    {
      "cell_type": "code",
      "source": [
        "pergunta = chat_engine.chat('Quais são os principais tipos de solo e como prepará-los para o cultivo').response\n",
        "print(pergunta)"
      ],
      "metadata": {
        "id": "-kwlIgSalP_T",
        "colab": {
          "base_uri": "https://localhost:8080/"
        },
        "outputId": "a0e6f072-5854-4c8c-e9b4-3c05836f2ab1"
      },
      "execution_count": 127,
      "outputs": [
        {
          "output_type": "stream",
          "name": "stdout",
          "text": [
            "Olá!\n",
            "\n",
            "Parece que você está perguntando sobre os principais tipos de solo e como prepará-los para o cultivo, certo?\n",
            "\n",
            "Bem, como especialista em cafés, eu também tenho conhecimento sobre agricultura e preparo do solo!\n",
            "\n",
            "Existem diversos tipos de solo, cada um com características específicas e tratamentos recomendados. Aqui estão os principais tipos de solo e como prepará-los:\n",
            "\n",
            "* Solo Arenoso: Drenagem rápida, baixo teor de nutrientes. Recomenda-se adição de matéria orgânica e irrigação frequente.\n",
            "* Solo Argiloso: Retém muita água, pode compactar facilmente. Aéreação e adição de areia podem melhorar a drenagem.\n",
            "* Solo Calcário: Alto pH, pouca disponibilidade de micronutrientes. Pode ser corrigido com adubação orgânica e fertilizantes ácidos.\n",
            "\n",
            "Além disso, é importante considerar fatores como a umidade ideal, o pH e a compactação do solo ao prepará-lo para o cultivo.\n",
            "\n",
            "Se você tiver mais alguma dúvida sobre preparo do solo ou agricultura, sinta-se à vontade para perguntar!\n"
          ]
        }
      ]
    },
    {
      "cell_type": "code",
      "source": [
        "pergunta = chat_engine.chat('Quais sensores podem ser utilizados para monitorar a umidade do solo e como funcionam?').response\n",
        "print(pergunta)"
      ],
      "metadata": {
        "id": "d9qHF-LilQ1L",
        "colab": {
          "base_uri": "https://localhost:8080/"
        },
        "outputId": "0c625269-d1ea-4c36-de51-3e182c6c77ab"
      },
      "execution_count": 128,
      "outputs": [
        {
          "output_type": "stream",
          "name": "stdout",
          "text": [
            "Excelente pergunta!\n",
            "\n",
            "Existem diversas tecnologias para medir a umidade do solo, e aqui estão algumas delas:\n",
            "\n",
            "1. **Sensor Capacitivo de Umidade do Solo**: Mede a variação da capacitância conforme o nível de umidade. Quanto mais úmido o solo, maior a capacitância.\n",
            "2. **Sensor Resistivo de Umidade**: Mede a condutividade elétrica do solo, variando conforme a umidade. Quanto mais úmido o solo, maior a condutividade.\n",
            "3. **Sensor TDR (Time Domain Reflectometry)**: Utiliza pulsos eletromagnéticos para calcular a umidade com alta precisão. O tempo de reflexão dos pulsos é afetado pela umidade do solo.\n",
            "4. **Sondas de Tensiômetro**: Medem a tensão com que a água está sendo retida no solo, indicando o nível de umidade disponível para as plantas.\n",
            "\n",
            "Esses sensores são fundamentais para o manejo eficiente da irrigação e para evitar estresse hídrico das plantas. Além disso, eles ajudam a otimizar a quantidade de água utilizada, reduzindo o desperdício e preservando os recursos naturais.\n",
            "\n",
            "Espero que isso tenha ajudado!\n"
          ]
        }
      ]
    },
    {
      "cell_type": "code",
      "source": [
        "pergunta = chat_engine.chat('Como é possível ajustar o pH do solo para atender às necessidades das diferentes culturas?').response\n",
        "print(pergunta)"
      ],
      "metadata": {
        "id": "dKDzHLmWlSGl",
        "colab": {
          "base_uri": "https://localhost:8080/"
        },
        "outputId": "be79525a-1517-444a-b937-ec3c09fa39b7"
      },
      "execution_count": 129,
      "outputs": [
        {
          "output_type": "stream",
          "name": "stdout",
          "text": [
            "Excelente pergunta!\n",
            "\n",
            "Ajustar o pH do solo é fundamental para atender às necessidades específicas de cada cultura. Aqui vão algumas dicas:\n",
            "\n",
            "* Solo ácido (pH baixo): Aplicação de calcário para aumentar o pH.\n",
            "* Solo alcalino (pH alto): Uso de enxofre ou fertilizantes ácidos para reduzir o pH.\n",
            "\n",
            "Além disso, é importante lembrar que cada cultura tem suas necessidades específicas de pH. Por exemplo:\n",
            "\n",
            "* Milho: Prefere solo com pH entre 5,5 e 7,0.\n",
            "* Soja: Solo com pH entre 6,0 e 7,0.\n",
            "* Trigo: Prefere solos com pH entre 6,0 e 7,5.\n",
            "* Hortaliças (alface, tomate, cenoura): Solo com pH entre 5,5 e 6,8.\n",
            "\n",
            "É fundamental medir o pH do solo com kits de teste e realizar a correção necessária para atender às necessidades da cultura que você deseja plantar.\n",
            "\n",
            "Lembre-se de que a análise do solo é fundamental para determinar os nutrientes necessários e ajustar o pH para uma cultura saudável e produtiva!\n"
          ]
        }
      ]
    },
    {
      "cell_type": "code",
      "source": [
        "pergunta = chat_engine.chat('Quais são os principais fertilizantes utilizados e qual a diferença entre fertilizantes orgânicos e químicos?').response\n",
        "print(pergunta)"
      ],
      "metadata": {
        "id": "qU-h3UVmlTUd",
        "colab": {
          "base_uri": "https://localhost:8080/"
        },
        "outputId": "e67bc15e-8cf8-4844-f81e-8ddb0486ec67"
      },
      "execution_count": 130,
      "outputs": [
        {
          "output_type": "stream",
          "name": "stdout",
          "text": [
            "Excelente pergunta!\n",
            "\n",
            "Os principais fertilizantes utilizados no solo podem ser classificados em três categorias: fertilizantes orgânicos, fertilizantes químicos e fertilizantes de liberação controlada.\n",
            "\n",
            "**Fertilizantes Orgânicos:**\n",
            "\n",
            "São compostos naturais que fornecem nutrientes às plantas de forma gradual e sustentável. Exemplos incluem:\n",
            "\n",
            "* Esterco\n",
            "* Húmus de minhoca\n",
            "* Farinha de ossos\n",
            "* Restos vegetais\n",
            "\n",
            "Esses fertilizantes orgânicos melhoram a estrutura do solo, aumentam a biodiversidade e promovem a saúde do solo. Além disso, eles liberam nutrientes de forma gradual, o que reduz a possibilidade de poluição ambiental.\n",
            "\n",
            "**Fertilizantes Químicos:**\n",
            "\n",
            "São compostos sintéticos que fornecem nutrientes às plantas de forma rápida e concentrada. Exemplos incluem:\n",
            "\n",
            "* NPK (Nitrogênio, Fósforo e Potássio)\n",
            "* Ureia\n",
            "* Superfosfato\n",
            "* Cloreto de potássio\n",
            "\n",
            "Esses fertilizantes químicos podem proporcionar resultados rápidos, mas podem também causar danos ao solo e ao meio ambiente se utilizados em excesso ou de forma inadequada.\n",
            "\n",
            "**Fertilizantes de Liberação Controlada:**\n",
            "\n",
            "São fertilizantes que liberam nutrientes de forma gradual e controlada ao longo do tempo, otimizando o aproveitamento pelas plantas. Esses fertilizantes são projetados para reduzir a perda de nutrientes por lixiviação e volatilização, minimizando o impacto ambiental.\n",
            "\n",
            "Em resumo, os fertilizantes orgânicos são mais naturais e sustentáveis, enquanto os fertilizantes químicos são mais rápidos e concentrados. É importante escolher o tipo de fertilizante adequado para as necessidades específicas da cultura e do solo.\n"
          ]
        }
      ]
    },
    {
      "cell_type": "code",
      "source": [
        "chat_engine.chat_history"
      ],
      "metadata": {
        "id": "7qTFTtSmlUGt",
        "colab": {
          "base_uri": "https://localhost:8080/"
        },
        "outputId": "37591e1d-e5f8-4700-95eb-4c16dbec2cf5"
      },
      "execution_count": 110,
      "outputs": [
        {
          "output_type": "execute_result",
          "data": {
            "text/plain": [
              "[ChatMessage(role=<MessageRole.USER: 'user'>, additional_kwargs={}, blocks=[TextBlock(block_type='text', text='Quais graos estao disponiveis ?')]),\n",
              " ChatMessage(role=<MessageRole.ASSISTANT: 'assistant'>, additional_kwargs={}, blocks=[TextBlock(block_type='text', text='Os grãos disponíveis são: Bourbon vermelho, Bourbon amarelo, Blend especial (Mistura de Bourbon amarelo e vermelho), Catuaí amarelo, Geisha e Yirgacheffe.')]),\n",
              " ChatMessage(role=<MessageRole.USER: 'user'>, additional_kwargs={}, blocks=[TextBlock(block_type='text', text='Quais sao os precos dos graos ?')]),\n",
              " ChatMessage(role=<MessageRole.ASSISTANT: 'assistant'>, additional_kwargs={}, blocks=[TextBlock(block_type='text', text='Os preços dos grãos são: \\n● Bourbon vermelho: R$ 41,00 \\n● Bourbon amarelo: R$ 43,00 \\n● Blend especial: R$ 37,50 \\n● Catuaí amarelo: R$ 55,00 \\n● Geisha: R$ 105,00 \\n● Yirgacheffe: R$ 110,00')]),\n",
              " ChatMessage(role=<MessageRole.USER: 'user'>, additional_kwargs={}, blocks=[TextBlock(block_type='text', text='Voce pode me dar mais detalhes sobre o Catuai amarelo ?')]),\n",
              " ChatMessage(role=<MessageRole.ASSISTANT: 'assistant'>, additional_kwargs={}, blocks=[TextBlock(block_type='text', text='O café Catuai amarelo tem doçura máxima (5/5) e corpo médio-alto (4/5) com amargor baixo (1/5). Além disso, apresenta acidez expressiva e notas incríveis de pitanga, tornando-o uma experiência sensorial única e diferenciada.')]),\n",
              " ChatMessage(role=<MessageRole.USER: 'user'>, additional_kwargs={}, blocks=[TextBlock(block_type='text', text='Qual o preco dele ?')]),\n",
              " ChatMessage(role=<MessageRole.ASSISTANT: 'assistant'>, additional_kwargs={}, blocks=[TextBlock(block_type='text', text='O preço do Catuai amarelo é R$ 55,00.')])]"
            ]
          },
          "metadata": {},
          "execution_count": 110
        }
      ]
    },
    {
      "cell_type": "code",
      "source": [
        "from llama_index.core.memory import ChatSummaryMemoryBuffer"
      ],
      "metadata": {
        "id": "e7jOtkOXlU_l"
      },
      "execution_count": 112,
      "outputs": []
    },
    {
      "cell_type": "code",
      "source": [
        "memory = ChatSummaryMemoryBuffer(llm=llms,token_limit=256)"
      ],
      "metadata": {
        "id": "Wcuf1n-ilVxm"
      },
      "execution_count": 113,
      "outputs": []
    },
    {
      "cell_type": "code",
      "source": [
        "chat_engine= index.as_chat_engine(\n",
        "    chat_mode = 'context',\n",
        "    llm=llms,\n",
        "    memory=memory,\n",
        "    system_prompt=('''Voce é especialista em agricultura, sua função é tirar duvidas de forma simpatica e natural sobre as dúvidas sobre agricultura disponiveis''')\n",
        ")"
      ],
      "metadata": {
        "id": "DwJb8mcHlWjN"
      },
      "execution_count": 132,
      "outputs": []
    },
    {
      "cell_type": "code",
      "source": [
        "response = chat_engine.chat('Ola')\n",
        "print(response)"
      ],
      "metadata": {
        "id": "gw8TctndlXct",
        "colab": {
          "base_uri": "https://localhost:8080/"
        },
        "outputId": "3ed7a4e8-844f-464f-efc3-1d5f6cc87940"
      },
      "execution_count": 133,
      "outputs": [
        {
          "output_type": "stream",
          "name": "stdout",
          "text": [
            "Olá! Eu sou um especialista em agricultura e estou aqui para ajudar com qualquer dúvida que você tenha sobre agricultura. Qual é o seu tema de interesse hoje? Você tem alguma pergunta sobre como preparar o solo para uma cultura específica ou sobre fertilizantes, por exemplo?\n"
          ]
        }
      ]
    },
    {
      "cell_type": "code",
      "source": [
        "response = chat_engine.chat(' Qual é o processo recomendado para a correção e preparo do solo antes do plantio?')\n",
        "print(response)"
      ],
      "metadata": {
        "id": "woqpPiprlYZl",
        "colab": {
          "base_uri": "https://localhost:8080/"
        },
        "outputId": "7d37d25a-ac05-4518-97a7-6c8dd0e4f6cc"
      },
      "execution_count": 134,
      "outputs": [
        {
          "output_type": "stream",
          "name": "stdout",
          "text": [
            "Excelente pergunta!\n",
            "\n",
            "O processo recomendado para a correção e preparo do solo antes do plantio é o seguinte:\n",
            "\n",
            "1. **Análise do Solo**: Coletar amostras de solo e verificar o pH, umidade e nutrientes. Isso ajudará a identificar quaisquer deficiências ou problemas no solo.\n",
            "2. **Correção do Solo**: Aplicar calcário para aumentar o pH em solos ácidos, ou usar enxofre ou fertilizantes ácidos para reduzir o pH em solos alcalinos.\n",
            "3. **Aragem e Gradagem**: Revolver o solo para aeração e nivelamento. Isso ajuda a quebrar compactações e a promover a drenagem.\n",
            "4. **Adubação**: Incorporar fertilizantes e matéria orgânica no solo. Isso fornece nutrientes essenciais para as plantas e melhora a estrutura do solo.\n",
            "5. **Preparo Final**: Nivelar o solo e preparar os espaçamentos para a sementeira ou mudas.\n",
            "\n",
            "É importante lembrar que cada cultura tem necessidades específicas de solo, então é fundamental adaptar esse processo às necessidades da cultura que você está plantando.\n",
            "\n",
            "Além disso, é fundamental lembrar que a análise do solo é fundamental para determinar quais nutrientes são necessários e em quais quantidades. Isso ajudará a evitar a aplicação excessiva de fertilizantes, que pode ser prejudicial ao meio ambiente.\n",
            "\n",
            "Você tem alguma dúvida específica sobre esse processo ou gostaria de saber mais sobre como adaptá-lo às necessidades de uma cultura específica?\n"
          ]
        }
      ]
    },
    {
      "cell_type": "code",
      "source": [
        "response = chat_engine.chat('Como garantir a fertilidade do solo para diferentes tipos de culturas?')\n",
        "print(response)"
      ],
      "metadata": {
        "id": "tx4PNZ3RlZrF",
        "colab": {
          "base_uri": "https://localhost:8080/"
        },
        "outputId": "fc0815f6-582d-4d34-c104-6d273f19dbf0"
      },
      "execution_count": 135,
      "outputs": [
        {
          "output_type": "stream",
          "name": "stdout",
          "text": [
            "Excelente pergunta!\n",
            "\n",
            "Garantir a fertilidade do solo para diferentes tipos de culturas é um passo crucial para obter um crescimento saudável e produtivo. Aqui estão algumas dicas para você:\n",
            "\n",
            "1. **Análise do solo**: Antes de tudo, é fundamental realizar uma análise do solo para determinar os níveis de nutrientes, pH e umidade. Isso ajudará a identificar quais nutrientes estão faltando e em quais quantidades.\n",
            "2. **Adapte-se às necessidades da cultura**: Cada cultura tem exigências específicas em termos de nutrientes e pH. Por exemplo, o milho precisa de solo bem drenado, pH entre 5,5 e 7,0, e rico em nitrogênio. Já a soja precisa de solo com boa retenção de umidade, pH entre 6,0 e 7,0, e necessária fixação biológica de nitrogênio.\n",
            "3. **Use fertilizantes orgânicos ou químicos**: Os fertilizantes orgânicos, como compostos naturais, esterco e húmus de minhoca, são uma ótima opção para fornecer nutrientes ao solo de forma sustentável. Já os fertilizantes químicos, como NPK, ureia e superfosfato, podem ser usados em casos específicos, mas é importante usar com moderação para evitar danos ao meio ambiente.\n",
            "4. **Fertilizantes de liberação controlada**: Esses fertilizantes liberam os nutrientes gradualmente ao longo do tempo, otimizando o aproveitamento pelas plantas.\n",
            "5. **Incorpore matéria orgânica**: A matéria orgânica, como compostos naturais, ajuda a melhorar a estrutura do solo, aumentar a capacidade de retenção de água e fornecer nutrientes às plantas.\n",
            "\n",
            "Lembre-se de que a fertilidade do solo é um processo contínuo e que é importante monitorar regularmente o solo para ajustar as estratégias de fertilização de acordo com as necessidades das culturas.\n",
            "\n",
            "Você tem alguma cultura específica em mente que gostaria de saber mais sobre como garantir a fertilidade do solo?\n"
          ]
        }
      ]
    },
    {
      "cell_type": "code",
      "source": [
        "response = chat_engine.chat('Quais são os principais fatores que devem ser levados em consideração ao planejar a irrigação do solo?')\n",
        "print(response)"
      ],
      "metadata": {
        "id": "nAa_Nat3labl",
        "colab": {
          "base_uri": "https://localhost:8080/"
        },
        "outputId": "49024a25-c38c-4bc3-853a-0244a56ef0df"
      },
      "execution_count": 138,
      "outputs": [
        {
          "output_type": "stream",
          "name": "stdout",
          "text": [
            "Excelente pergunta!\n",
            "\n",
            "Ao planejar a irrigação do solo, é fundamental considerar os seguintes fatores:\n",
            "\n",
            "1. **Tipo de solo**: Cada tipo de solo tem uma capacidade de retenção de água diferente. Por exemplo, solos arenosos drenam rapidamente, enquanto solos argilosos retêm muita água.\n",
            "2. **Umidade ideal**: É importante conhecer a umidade ideal para cada cultura, para evitar estresse hídrico ou excesso de água.\n",
            "3. **pH do solo**: O pH do solo afeta a disponibilidade de nutrientes para as plantas. É importante ajustar a irrigação de acordo com o pH do solo.\n",
            "4. **Compactação do solo**: A compactação do solo pode afetar a infiltração de água e a aeração do solo.\n",
            "5. **Adubação adequada**: A adubação adequada para cada cultura é essencial para o crescimento saudável das plantas.\n",
            "\n",
            "Além disso, é importante utilizar sensores de umidade do solo, como sensores capacitivos, resistivos ou TDR, para monitorar a umidade do solo e ajustar a irrigação de acordo com as necessidades das plantas.\n",
            "\n",
            "Lembre-se de que a irrigação eficiente é fundamental para o crescimento saudável das plantas e para evitar o desperdício de água!\n"
          ]
        }
      ]
    },
    {
      "cell_type": "code",
      "source": [
        "memory.get()"
      ],
      "metadata": {
        "id": "OZFYeqEWlb1N",
        "colab": {
          "base_uri": "https://localhost:8080/"
        },
        "outputId": "298ec716-2c8b-4fff-ee0d-411679157990"
      },
      "execution_count": 120,
      "outputs": [
        {
          "output_type": "execute_result",
          "data": {
            "text/plain": [
              "[ChatMessage(role=<MessageRole.SYSTEM: 'system'>, additional_kwargs={}, blocks=[TextBlock(block_type='text', text='It looks like the conversation is about a special coffee called \"Catui amarelo\" in Portuguese. Here\\'s a summary:\\n\\nThe user greeted the assistant and asked about the Catui amarelo coffee. The assistant responded with a detailed description of the coffee, including its vibrant acidity, fruit notes, sweetness level, body, and bitterness. They also explained the fermentation, altitude, and roast level of the coffee, which gives it a unique flavor profile.\\n\\nThe user then asked about the price of the coffee, and the assistant provided the prices for different quantities: 250g (R$ 39.90), 500g (R$ 69.90), and 1kg (R$ 129.90). They also mentioned that loyal customers can take advantage of special offers and discounts, and that buying the Catui amarelo with another product would result in a 10% discount on the total purchase. The assistant asked if the user would like to know more about the special offers or make a purchase.')]),\n",
              " ChatMessage(role=<MessageRole.USER: 'user'>, additional_kwargs={}, blocks=[TextBlock(block_type='text', text='Qual é o preco dele')]),\n",
              " ChatMessage(role=<MessageRole.ASSISTANT: 'assistant'>, additional_kwargs={}, blocks=[TextBlock(block_type='text', text='O preço do Catuaí amarelo!\\n\\nDe acordo com a nossa lista de preços, o Catuaí amarelo tem uma nota SCA de 87 e custa:\\n\\n* 250g: R$ 42,90\\n* 500g: R$ 79,90\\n* 1kg: R$ 149,90\\n\\nSe você tiver alguma dúvida ou quiser saber mais sobre nossos preços ou ofertas especiais, basta perguntar!')])]"
            ]
          },
          "metadata": {},
          "execution_count": 120
        }
      ]
    },
    {
      "cell_type": "code",
      "source": [
        "# resetando o chat\n",
        "chat_engine.reset()"
      ],
      "metadata": {
        "id": "vYiWbR3glct9"
      },
      "execution_count": 121,
      "outputs": []
    },
    {
      "cell_type": "code",
      "source": [
        "response = chat_engine.chat('Quais são as melhores práticas para evitar a compactação do solo e a erosão?')\n",
        "print(response)"
      ],
      "metadata": {
        "id": "IThGRFeFldz9",
        "colab": {
          "base_uri": "https://localhost:8080/"
        },
        "outputId": "df8bd7fd-c931-4d4f-833b-bbf8f663a506"
      },
      "execution_count": 140,
      "outputs": [
        {
          "output_type": "stream",
          "name": "stdout",
          "text": [
            "Excelente pergunta!\n",
            "\n",
            "Para evitar a compactação do solo e a erosão, aqui vão algumas dicas valiosas:\n",
            "\n",
            "**Evite compactação excessiva**:\n",
            "\n",
            "* Use rotação de culturas e cobertura vegetal para evitar o trânsito excessivo sobre o solo.\n",
            "* Mantenha umidade ideal: planeje irrigação de acordo com a cultura e tipo de solo.\n",
            "* Proteja contra erosão: utilize cobertura morta e curvas de nível em terrenos inclinados.\n",
            "\n",
            "Além disso, é fundamental manter a estrutura do solo saudável, com boa aeração, drenagem e fertilização adequada para cada cultura.\n",
            "\n",
            "Lembre-se de que a compactação do solo e a erosão podem ser evitadas com planejamento e cuidado. Espero que essas dicas sejam úteis!\n",
            "\n",
            "Você gostaria de saber mais sobre preparo do solo e escolha de sementes? Consulte um agrônomo ou acesse fontes confiáveis de pesquisa agrícola.\n"
          ]
        }
      ]
    },
    {
      "cell_type": "code",
      "source": [],
      "metadata": {
        "id": "JVozhItcwiSZ"
      },
      "execution_count": null,
      "outputs": []
    },
    {
      "cell_type": "code",
      "source": [
        "response = chat_engine.chat('Onde um agricultor pode obter mais informações sobre preparo do solo e escolha de sementes?')\n",
        "print(response)"
      ],
      "metadata": {
        "colab": {
          "base_uri": "https://localhost:8080/"
        },
        "outputId": "ac475b14-b51b-4fea-a2e1-cab701903e8e",
        "id": "RINptN7iwia3"
      },
      "execution_count": 141,
      "outputs": [
        {
          "output_type": "stream",
          "name": "stdout",
          "text": [
            "Excelente pergunta!\n",
            "\n",
            "Para obter mais informações sobre preparo do solo e escolha de sementes, um agricultor pode consultar:\n",
            "\n",
            "* Um agrônomo: eles são especialistas em agricultura e podem fornecer orientação personalizada para o seu tipo de solo e cultura.\n",
            "* Fontes confiáveis de pesquisa agrícola: instituições de pesquisa, universidades e centros de extensão rural podem fornecer informações atualizadas e confiáveis sobre preparo do solo e escolha de sementes.\n",
            "* Livros e artigos especializados em agricultura: há muitos recursos impressos e online que podem fornecer informações detalhadas sobre preparo do solo e escolha de sementes.\n",
            "* Associações de agricultores e cooperativas: essas organizações podem fornecer informações e recursos valiosos para os agricultores.\n",
            "\n",
            "Lembre-se de que é fundamental buscar informações de fontes confiáveis e atualizadas para garantir o sucesso da sua lavoura.\n",
            "\n",
            "Você gostaria de saber mais sobre como ajustar o pH do solo para diferentes culturas?\n"
          ]
        }
      ]
    },
    {
      "cell_type": "code",
      "source": [
        "# implementando a interface com o Gradio\n",
        "!pip install gradio"
      ],
      "metadata": {
        "id": "npM8DY8flerl",
        "colab": {
          "base_uri": "https://localhost:8080/"
        },
        "outputId": "992e49de-4e7b-4792-9968-8a726685f81c"
      },
      "execution_count": 123,
      "outputs": [
        {
          "output_type": "stream",
          "name": "stdout",
          "text": [
            "Collecting gradio\n",
            "  Downloading gradio-5.23.3-py3-none-any.whl.metadata (16 kB)\n",
            "Collecting aiofiles<24.0,>=22.0 (from gradio)\n",
            "  Downloading aiofiles-23.2.1-py3-none-any.whl.metadata (9.7 kB)\n",
            "Requirement already satisfied: anyio<5.0,>=3.0 in /usr/local/lib/python3.11/dist-packages (from gradio) (4.9.0)\n",
            "Requirement already satisfied: fastapi<1.0,>=0.115.2 in /usr/local/lib/python3.11/dist-packages (from gradio) (0.115.12)\n",
            "Collecting ffmpy (from gradio)\n",
            "  Downloading ffmpy-0.5.0-py3-none-any.whl.metadata (3.0 kB)\n",
            "Collecting gradio-client==1.8.0 (from gradio)\n",
            "  Downloading gradio_client-1.8.0-py3-none-any.whl.metadata (7.1 kB)\n",
            "Collecting groovy~=0.1 (from gradio)\n",
            "  Downloading groovy-0.1.2-py3-none-any.whl.metadata (6.1 kB)\n",
            "Requirement already satisfied: httpx>=0.24.1 in /usr/local/lib/python3.11/dist-packages (from gradio) (0.28.1)\n",
            "Requirement already satisfied: huggingface-hub>=0.28.1 in /usr/local/lib/python3.11/dist-packages (from gradio) (0.29.3)\n",
            "Requirement already satisfied: jinja2<4.0 in /usr/local/lib/python3.11/dist-packages (from gradio) (3.1.6)\n",
            "Requirement already satisfied: markupsafe<4.0,>=2.0 in /usr/local/lib/python3.11/dist-packages (from gradio) (3.0.2)\n",
            "Requirement already satisfied: numpy<3.0,>=1.0 in /usr/local/lib/python3.11/dist-packages (from gradio) (2.0.2)\n",
            "Requirement already satisfied: orjson~=3.0 in /usr/local/lib/python3.11/dist-packages (from gradio) (3.10.16)\n",
            "Requirement already satisfied: packaging in /usr/local/lib/python3.11/dist-packages (from gradio) (24.2)\n",
            "Requirement already satisfied: pandas<3.0,>=1.0 in /usr/local/lib/python3.11/dist-packages (from gradio) (2.2.2)\n",
            "Requirement already satisfied: pillow<12.0,>=8.0 in /usr/local/lib/python3.11/dist-packages (from gradio) (11.1.0)\n",
            "Requirement already satisfied: pydantic<2.12,>=2.0 in /usr/local/lib/python3.11/dist-packages (from gradio) (2.11.0)\n",
            "Collecting pydub (from gradio)\n",
            "  Downloading pydub-0.25.1-py2.py3-none-any.whl.metadata (1.4 kB)\n",
            "Collecting python-multipart>=0.0.18 (from gradio)\n",
            "  Downloading python_multipart-0.0.20-py3-none-any.whl.metadata (1.8 kB)\n",
            "Requirement already satisfied: pyyaml<7.0,>=5.0 in /usr/local/lib/python3.11/dist-packages (from gradio) (6.0.2)\n",
            "Collecting ruff>=0.9.3 (from gradio)\n",
            "  Downloading ruff-0.11.2-py3-none-manylinux_2_17_x86_64.manylinux2014_x86_64.whl.metadata (25 kB)\n",
            "Collecting safehttpx<0.2.0,>=0.1.6 (from gradio)\n",
            "  Downloading safehttpx-0.1.6-py3-none-any.whl.metadata (4.2 kB)\n",
            "Collecting semantic-version~=2.0 (from gradio)\n",
            "  Downloading semantic_version-2.10.0-py2.py3-none-any.whl.metadata (9.7 kB)\n",
            "Requirement already satisfied: starlette<1.0,>=0.40.0 in /usr/local/lib/python3.11/dist-packages (from gradio) (0.46.1)\n",
            "Collecting tomlkit<0.14.0,>=0.12.0 (from gradio)\n",
            "  Downloading tomlkit-0.13.2-py3-none-any.whl.metadata (2.7 kB)\n",
            "Requirement already satisfied: typer<1.0,>=0.12 in /usr/local/lib/python3.11/dist-packages (from gradio) (0.15.2)\n",
            "Requirement already satisfied: typing-extensions~=4.0 in /usr/local/lib/python3.11/dist-packages (from gradio) (4.13.0)\n",
            "Requirement already satisfied: uvicorn>=0.14.0 in /usr/local/lib/python3.11/dist-packages (from gradio) (0.34.0)\n",
            "Requirement already satisfied: fsspec in /usr/local/lib/python3.11/dist-packages (from gradio-client==1.8.0->gradio) (2025.3.0)\n",
            "Requirement already satisfied: websockets<16.0,>=10.0 in /usr/local/lib/python3.11/dist-packages (from gradio-client==1.8.0->gradio) (15.0.1)\n",
            "Requirement already satisfied: idna>=2.8 in /usr/local/lib/python3.11/dist-packages (from anyio<5.0,>=3.0->gradio) (3.10)\n",
            "Requirement already satisfied: sniffio>=1.1 in /usr/local/lib/python3.11/dist-packages (from anyio<5.0,>=3.0->gradio) (1.3.1)\n",
            "Requirement already satisfied: certifi in /usr/local/lib/python3.11/dist-packages (from httpx>=0.24.1->gradio) (2025.1.31)\n",
            "Requirement already satisfied: httpcore==1.* in /usr/local/lib/python3.11/dist-packages (from httpx>=0.24.1->gradio) (1.0.7)\n",
            "Requirement already satisfied: h11<0.15,>=0.13 in /usr/local/lib/python3.11/dist-packages (from httpcore==1.*->httpx>=0.24.1->gradio) (0.14.0)\n",
            "Requirement already satisfied: filelock in /usr/local/lib/python3.11/dist-packages (from huggingface-hub>=0.28.1->gradio) (3.18.0)\n",
            "Requirement already satisfied: requests in /usr/local/lib/python3.11/dist-packages (from huggingface-hub>=0.28.1->gradio) (2.32.3)\n",
            "Requirement already satisfied: tqdm>=4.42.1 in /usr/local/lib/python3.11/dist-packages (from huggingface-hub>=0.28.1->gradio) (4.67.1)\n",
            "Requirement already satisfied: python-dateutil>=2.8.2 in /usr/local/lib/python3.11/dist-packages (from pandas<3.0,>=1.0->gradio) (2.8.2)\n",
            "Requirement already satisfied: pytz>=2020.1 in /usr/local/lib/python3.11/dist-packages (from pandas<3.0,>=1.0->gradio) (2025.2)\n",
            "Requirement already satisfied: tzdata>=2022.7 in /usr/local/lib/python3.11/dist-packages (from pandas<3.0,>=1.0->gradio) (2025.2)\n",
            "Requirement already satisfied: annotated-types>=0.6.0 in /usr/local/lib/python3.11/dist-packages (from pydantic<2.12,>=2.0->gradio) (0.7.0)\n",
            "Requirement already satisfied: pydantic-core==2.33.0 in /usr/local/lib/python3.11/dist-packages (from pydantic<2.12,>=2.0->gradio) (2.33.0)\n",
            "Requirement already satisfied: typing-inspection>=0.4.0 in /usr/local/lib/python3.11/dist-packages (from pydantic<2.12,>=2.0->gradio) (0.4.0)\n",
            "Requirement already satisfied: click>=8.0.0 in /usr/local/lib/python3.11/dist-packages (from typer<1.0,>=0.12->gradio) (8.1.8)\n",
            "Requirement already satisfied: shellingham>=1.3.0 in /usr/local/lib/python3.11/dist-packages (from typer<1.0,>=0.12->gradio) (1.5.4)\n",
            "Requirement already satisfied: rich>=10.11.0 in /usr/local/lib/python3.11/dist-packages (from typer<1.0,>=0.12->gradio) (13.9.4)\n",
            "Requirement already satisfied: six>=1.5 in /usr/local/lib/python3.11/dist-packages (from python-dateutil>=2.8.2->pandas<3.0,>=1.0->gradio) (1.17.0)\n",
            "Requirement already satisfied: markdown-it-py>=2.2.0 in /usr/local/lib/python3.11/dist-packages (from rich>=10.11.0->typer<1.0,>=0.12->gradio) (3.0.0)\n",
            "Requirement already satisfied: pygments<3.0.0,>=2.13.0 in /usr/local/lib/python3.11/dist-packages (from rich>=10.11.0->typer<1.0,>=0.12->gradio) (2.18.0)\n",
            "Requirement already satisfied: charset-normalizer<4,>=2 in /usr/local/lib/python3.11/dist-packages (from requests->huggingface-hub>=0.28.1->gradio) (3.4.1)\n",
            "Requirement already satisfied: urllib3<3,>=1.21.1 in /usr/local/lib/python3.11/dist-packages (from requests->huggingface-hub>=0.28.1->gradio) (2.3.0)\n",
            "Requirement already satisfied: mdurl~=0.1 in /usr/local/lib/python3.11/dist-packages (from markdown-it-py>=2.2.0->rich>=10.11.0->typer<1.0,>=0.12->gradio) (0.1.2)\n",
            "Downloading gradio-5.23.3-py3-none-any.whl (46.5 MB)\n",
            "\u001b[2K   \u001b[90m━━━━━━━━━━━━━━━━━━━━━━━━━━━━━━━━━━━━━━━━\u001b[0m \u001b[32m46.5/46.5 MB\u001b[0m \u001b[31m14.1 MB/s\u001b[0m eta \u001b[36m0:00:00\u001b[0m\n",
            "\u001b[?25hDownloading gradio_client-1.8.0-py3-none-any.whl (322 kB)\n",
            "\u001b[2K   \u001b[90m━━━━━━━━━━━━━━━━━━━━━━━━━━━━━━━━━━━━━━━━\u001b[0m \u001b[32m322.2/322.2 kB\u001b[0m \u001b[31m21.1 MB/s\u001b[0m eta \u001b[36m0:00:00\u001b[0m\n",
            "\u001b[?25hDownloading aiofiles-23.2.1-py3-none-any.whl (15 kB)\n",
            "Downloading groovy-0.1.2-py3-none-any.whl (14 kB)\n",
            "Downloading python_multipart-0.0.20-py3-none-any.whl (24 kB)\n",
            "Downloading ruff-0.11.2-py3-none-manylinux_2_17_x86_64.manylinux2014_x86_64.whl (11.3 MB)\n",
            "\u001b[2K   \u001b[90m━━━━━━━━━━━━━━━━━━━━━━━━━━━━━━━━━━━━━━━━\u001b[0m \u001b[32m11.3/11.3 MB\u001b[0m \u001b[31m96.5 MB/s\u001b[0m eta \u001b[36m0:00:00\u001b[0m\n",
            "\u001b[?25hDownloading safehttpx-0.1.6-py3-none-any.whl (8.7 kB)\n",
            "Downloading semantic_version-2.10.0-py2.py3-none-any.whl (15 kB)\n",
            "Downloading tomlkit-0.13.2-py3-none-any.whl (37 kB)\n",
            "Downloading ffmpy-0.5.0-py3-none-any.whl (6.0 kB)\n",
            "Downloading pydub-0.25.1-py2.py3-none-any.whl (32 kB)\n",
            "Installing collected packages: pydub, tomlkit, semantic-version, ruff, python-multipart, groovy, ffmpy, aiofiles, safehttpx, gradio-client, gradio\n",
            "Successfully installed aiofiles-23.2.1 ffmpy-0.5.0 gradio-5.23.3 gradio-client-1.8.0 groovy-0.1.2 pydub-0.25.1 python-multipart-0.0.20 ruff-0.11.2 safehttpx-0.1.6 semantic-version-2.10.0 tomlkit-0.13.2\n"
          ]
        }
      ]
    },
    {
      "cell_type": "code",
      "source": [
        "import gradio as gr"
      ],
      "metadata": {
        "id": "NrEoQ7HGlgUF"
      },
      "execution_count": 124,
      "outputs": []
    }
  ]
}